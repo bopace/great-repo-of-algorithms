{
 "cells": [
  {
   "cell_type": "markdown",
   "metadata": {},
   "source": [
    "# Given the root nodes of two binary trees, determine if they are identical.\n",
    "\n",
    "Clarifying questions:\n",
    "* What does it mean for two binary trees to be identical? (In this case, same node structure and same values in each node.)\n",
    "\n",
    "Initial thoughts:\n",
    "* A DFS approach would make the most sense.\n",
    "* Each node can be checked for equality. Are the values equal? Do the children have equal values? Etc.\n",
    "* We can check for equality recursively.\n",
    "\n",
    "Recursive DFS pseudocode:\n",
    "1. Recursively perform DFS on the left node if it exists.\n",
    "2. Evaluate the current node.\n",
    "3. Recursively perform DFS on the right node if it exists.\n",
    "\n",
    "In this case, evaluation would be check for node equality.\n",
    "\n",
    "Node equality pseudocode:\n",
    "1. If both nodes are null, return True.\n",
    "2. If node1.val != node2.val, return False.\n",
    "3. If the left subtrees are not equal, return False.\n",
    "4. If the right subtrees are not equal, return False.\n",
    "\n",
    "Let's try coding it out."
   ]
  },
  {
   "cell_type": "code",
   "execution_count": 4,
   "metadata": {
    "collapsed": false
   },
   "outputs": [],
   "source": [
    "def are_trees_identical(node1, node2):\n",
    "    if node1 == None and node2 == None:\n",
    "        return True\n",
    "    \n",
    "    elif node1 != None and node2 != None:\n",
    "        # check node value equality\n",
    "        if node1.val != node2.val:\n",
    "            return False\n",
    "        \n",
    "        # recursively check left subtree\n",
    "        if not are_trees_identical(node1.left, node2.left):\n",
    "            return False\n",
    "        \n",
    "        # recursively check right subtree\n",
    "        if not are_trees_identical(node1.right, node2.right):\n",
    "            return False\n",
    "        \n",
    "        return True\n",
    "    \n",
    "    return False"
   ]
  }
 ],
 "metadata": {
  "kernelspec": {
   "display_name": "Python 2",
   "language": "python",
   "name": "python2"
  },
  "language_info": {
   "codemirror_mode": {
    "name": "ipython",
    "version": 2
   },
   "file_extension": ".py",
   "mimetype": "text/x-python",
   "name": "python",
   "nbconvert_exporter": "python",
   "pygments_lexer": "ipython2",
   "version": "2.7.11"
  }
 },
 "nbformat": 4,
 "nbformat_minor": 0
}
