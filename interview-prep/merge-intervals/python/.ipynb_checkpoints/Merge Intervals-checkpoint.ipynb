{
 "cells": [
  {
   "cell_type": "markdown",
   "metadata": {},
   "source": [
    "# Given a list of intervals, merge all overlapping intervals.\n",
    "\n",
    "For instance, given [1,4], [2,5], [7,13], [9,12] return [1,5], [7,13]"
   ]
  },
  {
   "cell_type": "code",
   "execution_count": 5,
   "metadata": {
    "collapsed": true
   },
   "outputs": [],
   "source": [
    "def merge_intervals(intervals):\n",
    "    \n",
    "    # if the list is empty, there's nothing to merge.\n",
    "    if len(intervals) == 0:\n",
    "        return intervals\n",
    "    \n",
    "    # To make this a little easier on ourselves, let's first sort the\n",
    "    # intervals by the first element in each interval ( O(logn) )\n",
    "    intervals = sorted(intervals)\n",
    "    \n",
    "    # Keep track of which element we're looking at in the unmerged\n",
    "    # and the merged list\n",
    "    unmerged_index = 1\n",
    "    merged_index = 0\n",
    "    \n",
    "    merged_intervals = [intervals[0]]\n",
    "    \n",
    "    while unmerged_index < len(intervals):\n",
    "        # if the start time of the unmerged interval is less than the end\n",
    "        # time of the merged interval, there's an overlap.\n",
    "        if intervals[unmerged_index][0] < merged_intervals[merged_index][1]:\n",
    "            # if the end time of the unmerged interval is greater than the\n",
    "            # end time of the merged interval, merge them by setting the\n",
    "            # end time of the merged interval to the new end time. Otherwise,\n",
    "            # it remains the same. Either way, we move the unmerged index up.\n",
    "            merged_intervals[merged_index][1] = max(merged_intervals[merged_index][1], intervals[unmerged_index][1])\n",
    "            "
   ]
  }
 ],
 "metadata": {
  "kernelspec": {
   "display_name": "Python 2",
   "language": "python",
   "name": "python2"
  },
  "language_info": {
   "codemirror_mode": {
    "name": "ipython",
    "version": 2
   },
   "file_extension": ".py",
   "mimetype": "text/x-python",
   "name": "python",
   "nbconvert_exporter": "python",
   "pygments_lexer": "ipython2",
   "version": "2.7.12"
  }
 },
 "nbformat": 4,
 "nbformat_minor": 1
}
