{
 "cells": [
  {
   "cell_type": "markdown",
   "metadata": {},
   "source": [
    "# Given a list of intervals, merge all overlapping intervals.\n",
    "\n",
    "For instance, given [1,4], [2,5], [7,13], [9,12] return [1,5], [7,13]"
   ]
  },
  {
   "cell_type": "code",
   "execution_count": 10,
   "metadata": {
    "collapsed": true
   },
   "outputs": [],
   "source": [
    "def merge_intervals(intervals):\n",
    "    \n",
    "    # if the list is empty, there's nothing to merge.\n",
    "    if len(intervals) == 0:\n",
    "        return intervals\n",
    "    \n",
    "    # To make this a little easier on ourselves, let's first sort the\n",
    "    # intervals by the first element in each interval ( O(logn) )\n",
    "    intervals = sorted(intervals)\n",
    "    \n",
    "    # Keep track of which element we're looking at in the unmerged\n",
    "    # and the merged list\n",
    "    unmerged_index = 1\n",
    "    merged_index = 0\n",
    "    \n",
    "    merged_intervals = [intervals[0]]\n",
    "    \n",
    "    while unmerged_index < len(intervals):\n",
    "        # if the start time of the unmerged interval is less than or equal\n",
    "        # to the end time of the merged interval, there's an overlap.\n",
    "        if intervals[unmerged_index][0] <= merged_intervals[merged_index][1]:\n",
    "            # if the end time of the unmerged interval is greater than the\n",
    "            # end time of the merged interval, merge them by setting the\n",
    "            # end time of the merged interval to the new end time. Otherwise,\n",
    "            # it remains the same. Either way, we move the unmerged index up.\n",
    "            merged_intervals[merged_index][1] = max(merged_intervals[merged_index][1],\n",
    "                                                    intervals[unmerged_index][1])\n",
    "            unmerged_index += 1\n",
    "        # if the start time of the unmerged interval is greater than the\n",
    "        # end time of the merged interval, it's a new interval in our merged\n",
    "        # list.\n",
    "        else:\n",
    "            merged_intervals.append(intervals[unmerged_index])\n",
    "            unmerged_index += 1\n",
    "            merged_index += 1\n",
    "    \n",
    "    # return the merged intervals\n",
    "    return merged_intervals"
   ]
  },
  {
   "cell_type": "markdown",
   "metadata": {},
   "source": [
    "## Test Cases"
   ]
  },
  {
   "cell_type": "code",
   "execution_count": 11,
   "metadata": {
    "collapsed": false
   },
   "outputs": [
    {
     "name": "stdout",
     "output_type": "stream",
     "text": [
      "[]\n",
      "[[1, 5], [7, 13]]\n",
      "[[1, 3], [4, 6], [8, 10]]\n",
      "[[1, 12]]\n"
     ]
    }
   ],
   "source": [
    "# Empty list\n",
    "print merge_intervals([])\n",
    "\n",
    "# Our first example\n",
    "print merge_intervals([[1,4],[2,5],[7,13],[9,12]])\n",
    "\n",
    "# No overlap\n",
    "print merge_intervals([[1,3],[4,6],[8,10]])\n",
    "\n",
    "# One continuous interval\n",
    "print merge_intervals([[3,6],[1,3],[9,12],[6,9]])"
   ]
  }
 ],
 "metadata": {
  "kernelspec": {
   "display_name": "Python 2",
   "language": "python",
   "name": "python2"
  },
  "language_info": {
   "codemirror_mode": {
    "name": "ipython",
    "version": 2
   },
   "file_extension": ".py",
   "mimetype": "text/x-python",
   "name": "python",
   "nbconvert_exporter": "python",
   "pygments_lexer": "ipython2",
   "version": "2.7.12"
  }
 },
 "nbformat": 4,
 "nbformat_minor": 1
}
