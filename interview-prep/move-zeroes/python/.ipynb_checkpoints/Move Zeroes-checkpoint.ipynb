{
 "cells": [
  {
   "cell_type": "markdown",
   "metadata": {},
   "source": [
    "# Given an array of integers, move all the zeroes to the end while preserving the order of the other elements with no extra data structures.\n",
    "\n",
    "First thoughts:\n",
    "* What if we could use extra data structures? We could go through the array, inserting elements from the first array if they're non-zero. When we reach the end of the first array, we just fill the second array with zeroes until it's full.\n",
    "* The algorithm will probably be a little more involved if we can't use extra data structures.\n",
    "\n",
    "Approaches:\n",
    "* Can we somehow do it in a single pass? What if we keep track of two indices while iterating. We traverse the array until we reach a zero. At this point, we make a note of where this first zero is. Then, we use a second index to traverse the array until we find a non-zero element. Then, we fill where the first index is pointing with the contents of the second index, and change the second index to a 0. Then, we traverse the array with the first index again and repeat the process until we've covered the whole array. Let's try that."
   ]
  },
  {
   "cell_type": "code",
   "execution_count": 3,
   "metadata": {
    "collapsed": false
   },
   "outputs": [
    {
     "name": "stdout",
     "output_type": "stream",
     "text": [
      "\n"
     ]
    }
   ],
   "source": [
    "def move_zeroes(arr):\n",
    "    index1 = index2 = 0\n",
    "    \n",
    "    # traverse the array until we reach a zero element\n",
    "    while index1 < len(arr):\n",
    "        if arr[index1] == 0:\n",
    "            # traverse the array with the second index until a non-zero\n",
    "            # element is reached\n",
    "            index2 = index1 + 1\n",
    "            while arr[index2] == 0:\n",
    "                index2 += 1\n",
    "                # if index2 reaches the end of the array, we're done\n",
    "                if index2 == len(arr):\n",
    "                    return arr\n",
    "            # swap the contents\n",
    "            arr[index1] = arr[index2]\n",
    "            arr[index2] = 0\n",
    "        index1 += 1\n",
    "    \n",
    "    return arr"
   ]
  },
  {
   "cell_type": "markdown",
   "metadata": {},
   "source": [
    "Since at most we'll traverse the array twice (one for the first index, one for the second), our running time is O(2n), or just O(n). We have a space complexity of O(1)."
   ]
  },
  {
   "cell_type": "markdown",
   "metadata": {},
   "source": [
    "# Tests"
   ]
  },
  {
   "cell_type": "code",
   "execution_count": 5,
   "metadata": {
    "collapsed": false
   },
   "outputs": [
    {
     "name": "stdout",
     "output_type": "stream",
     "text": [
      "[0, 0, 0, 0, 0, 0, 0, 0]\n",
      "[7, 32, 5, 1, 9, 0, 0, 0]\n",
      "[1, 2, 3, 4, 5, 6, 7, 8, 9, 10, 0, 0, 0, 0, 0, 0, 0, 0, 0, 0]\n"
     ]
    }
   ],
   "source": [
    "# all zeroes\n",
    "print move_zeroes([0,0,0,0,0,0,0,0])\n",
    "\n",
    "# zeroes already at right\n",
    "print move_zeroes([7,32,5,1,9,0,0,0])\n",
    "\n",
    "# zeroes interspersed\n",
    "print move_zeroes([0,1,0,2,0,3,0,4,0,5,0,6,0,7,0,8,0,9,0,10])"
   ]
  }
 ],
 "metadata": {
  "kernelspec": {
   "display_name": "Python 2",
   "language": "python",
   "name": "python2"
  },
  "language_info": {
   "codemirror_mode": {
    "name": "ipython",
    "version": 2
   },
   "file_extension": ".py",
   "mimetype": "text/x-python",
   "name": "python",
   "nbconvert_exporter": "python",
   "pygments_lexer": "ipython2",
   "version": "2.7.11"
  }
 },
 "nbformat": 4,
 "nbformat_minor": 0
}
