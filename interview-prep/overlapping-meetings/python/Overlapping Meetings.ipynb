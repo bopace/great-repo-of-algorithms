{
 "cells": [
  {
   "cell_type": "markdown",
   "metadata": {},
   "source": [
    "# Given a list of meeting times, return true if any of them overlap and false if none of them overlap.\n",
    "\n",
    "Questions to clarify problem:\n",
    "* What format are the times in?\n",
    "* What's a reasonable size to expect for input?\n",
    "* What's the function signature/what format will the input come in?\n",
    "\n",
    "Let's assume for the sake of the problem that our end and start times will be positive integers. The process will be similar to our \"merge intervals\" interview problem.\n",
    "\n",
    "### Thoughts\n",
    "\n",
    "* We should be able to find an answer in a single pass over the input.\n",
    "* If we sort the input first, we will have a much easier go of it. It will take O(logn) time using Python's timsort, but this is preferable over comparing each meeting time with every other meeting time, which is what we would otherwise have to do.\n",
    "* The only value we really need to hold on to while iterating is the value of the previous meeting's end time. This will keep our space cost constant.\n",
    "* Since we're only returning true or false, we can short-circuit the algorithm by returning true after the first overlap. If there are no overlaps, we'll still have to go through every input.\n",
    "\n",
    "### Process\n",
    "\n",
    "1. Sort the meeting times.\n",
    "2. Store the first meeting time's end time in a variable.\n",
    "3. Move on to the next meeting time. If the start time is less than or equal to our stored end time, return true and finish. Else, set our stored end time variable to the current meeting's end time and repeat step 3 until completion.\n",
    "\n",
    "Let's code it out."
   ]
  },
  {
   "cell_type": "code",
   "execution_count": 3,
   "metadata": {
    "collapsed": true
   },
   "outputs": [],
   "source": [
    "def do_meetings_overlap(meetings):\n",
    "    if len(meetings) == 0:\n",
    "        return False\n",
    "    \n",
    "    meetings = sorted(meetings)\n",
    "    \n",
    "    prev_end_time = meetings[0][1]\n",
    "    \n",
    "    for meeting in meetings[1:]:\n",
    "        if meeting[0] <= prev_end_time:\n",
    "            return True\n",
    "        else:\n",
    "            prev_end_time = meeting[1]\n",
    "    \n",
    "    return False"
   ]
  },
  {
   "cell_type": "markdown",
   "metadata": {},
   "source": [
    "# Tests"
   ]
  },
  {
   "cell_type": "code",
   "execution_count": 4,
   "metadata": {
    "collapsed": false
   },
   "outputs": [
    {
     "name": "stdout",
     "output_type": "stream",
     "text": [
      "False\n",
      "False\n",
      "True\n",
      "True\n"
     ]
    }
   ],
   "source": [
    "# Empty list\n",
    "print do_meetings_overlap([])\n",
    "\n",
    "# No overlap\n",
    "print do_meetings_overlap([[17,20],[4,9],[10,13]])\n",
    "\n",
    "# Last meetings overlap\n",
    "print do_meetings_overlap([[1,4],[5,8],[8,12]])\n",
    "\n",
    "# Multiple meetings overlap\n",
    "print do_meetings_overlap([[1,3],[2,6],[5,9],[1,2]])"
   ]
  }
 ],
 "metadata": {
  "kernelspec": {
   "display_name": "Python 2",
   "language": "python",
   "name": "python2"
  },
  "language_info": {
   "codemirror_mode": {
    "name": "ipython",
    "version": 2
   },
   "file_extension": ".py",
   "mimetype": "text/x-python",
   "name": "python",
   "nbconvert_exporter": "python",
   "pygments_lexer": "ipython2",
   "version": "2.7.12"
  }
 },
 "nbformat": 4,
 "nbformat_minor": 1
}
