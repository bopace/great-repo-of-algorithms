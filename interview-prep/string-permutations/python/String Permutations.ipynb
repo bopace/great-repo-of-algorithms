{
 "cells": [
  {
   "cell_type": "markdown",
   "metadata": {},
   "source": [
    "# Generate all permutations of a string.\n",
    "\n",
    "Initial thoughts:\n",
    "* How can we do this recursively? What would be the base case?\n",
    "* How can we generate all the permutations of a string of length n if we have all the permutations of a string of length n-1?\n",
    "* The base case would be an empty string. In that case, the only permutation would be the empty string.\n",
    "\n",
    "Recursive approach:\n",
    "1. Take the first character and put it in a variable.\n",
    "2. Recursively find all permutations of the rest of the string.\n",
    "3. Add that saved character into each location in the permutations.\n",
    "\n",
    "Let's try it out."
   ]
  },
  {
   "cell_type": "code",
   "execution_count": 8,
   "metadata": {
    "collapsed": true
   },
   "outputs": [],
   "source": [
    "def perm_string(s):\n",
    "    # if the string is empty, that's our base case. Return an empty string.\n",
    "    if s == '':\n",
    "        return ['']\n",
    "    \n",
    "    ch = s[0]\n",
    "    perms = perm_string(s[1:])\n",
    "    \n",
    "    new_perms = set()\n",
    "    \n",
    "    for perm in perms:\n",
    "        for i in range(len(perm) + 1):\n",
    "            new_perm = perm[:i] + ch + perm[i:]\n",
    "            new_perms.add(new_perm)\n",
    "            \n",
    "    return new_perms"
   ]
  },
  {
   "cell_type": "code",
   "execution_count": 9,
   "metadata": {
    "collapsed": false
   },
   "outputs": [
    {
     "name": "stdout",
     "output_type": "stream",
     "text": [
      "set(['acbb', 'bbac', 'babc', 'abbc', 'abcb', 'cbab', 'cabb', 'bcab', 'cbba', 'bcba', 'bbca', 'bacb'])\n"
     ]
    }
   ],
   "source": [
    "print perm_string('abcb')"
   ]
  }
 ],
 "metadata": {
  "kernelspec": {
   "display_name": "Python 2",
   "language": "python",
   "name": "python2"
  },
  "language_info": {
   "codemirror_mode": {
    "name": "ipython",
    "version": 2
   },
   "file_extension": ".py",
   "mimetype": "text/x-python",
   "name": "python",
   "nbconvert_exporter": "python",
   "pygments_lexer": "ipython2",
   "version": "2.7.11"
  }
 },
 "nbformat": 4,
 "nbformat_minor": 0
}
